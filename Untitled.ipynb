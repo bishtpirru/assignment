{
 "cells": [
  {
   "cell_type": "code",
   "execution_count": 1,
   "id": "72338d63-dc9c-479c-83c9-2c0a8138ec8c",
   "metadata": {},
   "outputs": [
    {
     "ename": "SyntaxError",
     "evalue": "invalid syntax (4255383627.py, line 1)",
     "output_type": "error",
     "traceback": [
      "\u001b[0;36m  Cell \u001b[0;32mIn [1], line 1\u001b[0;36m\u001b[0m\n\u001b[0;31m    Assignment 1 Solutions\u001b[0m\n\u001b[0m               ^\u001b[0m\n\u001b[0;31mSyntaxError\u001b[0m\u001b[0;31m:\u001b[0m invalid syntax\n"
     ]
    }
   ],
   "source": [
    "#Assignment 1 Solutions\n",
    "\n",
    "#1. In the below elements which of them are values or an expression? eg:- values can be integer or string and expressions will be mathematical operators.\n",
    "#*,'hello', -87.8,-,/,+,6\n",
    "\n",
    "#Ans: There are a total of 4 Operators and 3 Expressions, They are:\n",
    "#Operators: *,-,/,+\n",
    "#Expressions: 'hello', 87.8, 6\n",
    "\n",
    "#2. What is the difference between string and variable?\n",
    "#Ans: A Variable is used to store of information, and a String is a type of information you would store in a Variable.\n",
    "#A String is a group of characters or a single character usually enclosed in Double quotes \" \" or single quotes ' '\n",
    "\n",
    "#3. Describe three different Data Types ?\n",
    "#Ans: Three fundamental Data types in python are int, float, complex.\n",
    "\n",
    "#1 int data type: We can use int data type to represent whole numbers (integral values)\n",
    "#2 float data type: We can use float data type to represent floating point values (decimal values)\n",
    "#3 complex data type: Complex number is represented by complex class. It is specified as (real part) + (imaginary part)j.\n",
    "# Example for int data type\n",
    "int_num=4567\n",
    "print(int_num, type(int_num))\n",
    "# Example for float data type\n",
    "flo_num=1.2e3\n",
    "print(flo_num, type(flo_num))\n",
    "# Example for Complex data type\n",
    "com_num=10+1.5j\n",
    "print(com_num, type(com_num))\n",
    "4567 <class 'int'>\n",
    "1200.0 <class 'float'>\n",
    "(10+1.5j) <class 'complex'>"
   ]
  },
  {
   "cell_type": "code",
   "execution_count": null,
   "id": "be5b321b-6a2d-4fcf-aa9b-836d473902ae",
   "metadata": {},
   "outputs": [],
   "source": []
  }
 ],
 "metadata": {
  "kernelspec": {
   "display_name": "Python 3 (ipykernel)",
   "language": "python",
   "name": "python3"
  },
  "language_info": {
   "codemirror_mode": {
    "name": "ipython",
    "version": 3
   },
   "file_extension": ".py",
   "mimetype": "text/x-python",
   "name": "python",
   "nbconvert_exporter": "python",
   "pygments_lexer": "ipython3",
   "version": "3.10.6"
  }
 },
 "nbformat": 4,
 "nbformat_minor": 5
}
